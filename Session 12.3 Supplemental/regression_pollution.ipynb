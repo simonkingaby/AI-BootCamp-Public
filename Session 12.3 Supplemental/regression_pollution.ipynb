{
 "cells": [
  {
   "cell_type": "code",
   "execution_count": 1,
   "metadata": {},
   "outputs": [
    {
     "name": "stdout",
     "output_type": "stream",
     "text": [
      "NW\n",
      "Mean Squared Error: 5156.586778206167\n",
      "R-squared: 0.30474045905970815\n",
      "Adjusted R-squared: 0.30453408935328485\n",
      "Done!\n",
      "NE\n",
      "Mean Squared Error: 6627.880484334559\n",
      "R-squared: 0.2878682971612543\n",
      "Adjusted R-squared: 0.28726835469887957\n",
      "Done!\n",
      "SE\n",
      "Mean Squared Error: 5283.41829828768\n",
      "R-squared: 0.18505461345883834\n",
      "Adjusted R-squared: 0.18483085031041957\n",
      "Done!\n",
      "cv\n",
      "Mean Squared Error: 7888.867984305208\n",
      "R-squared: 0.21008829116834815\n",
      "Adjusted R-squared: 0.20973470490656132\n",
      "Done!\n"
     ]
    }
   ],
   "source": [
    "import pandas as pd\n",
    "import pipeline_pollution as pp\n",
    "\n",
    "def main():\n",
    "    winds = ['NW', 'NE', 'SE', 'cv']\n",
    "    for wind in winds:\n",
    "        print(wind)\n",
    "        df = pd.read_csv(f'https://static.bc-edx.com/ai/ail-v-1-0/m12/lesson_3/datasets/beijing-pm2-5-{wind}.csv')\n",
    "        \n",
    "        # apply ML Pipeline\n",
    "        pp.process(df)\n",
    "\n",
    "if __name__ == '__main__':\n",
    "    main()"
   ]
  },
  {
   "cell_type": "code",
   "execution_count": null,
   "metadata": {},
   "outputs": [],
   "source": []
  }
 ],
 "metadata": {
  "kernelspec": {
   "display_name": "ai",
   "language": "python",
   "name": "python3"
  },
  "language_info": {
   "codemirror_mode": {
    "name": "ipython",
    "version": 3
   },
   "file_extension": ".py",
   "mimetype": "text/x-python",
   "name": "python",
   "nbconvert_exporter": "python",
   "pygments_lexer": "ipython3",
   "version": "3.11.7"
  }
 },
 "nbformat": 4,
 "nbformat_minor": 2
}
