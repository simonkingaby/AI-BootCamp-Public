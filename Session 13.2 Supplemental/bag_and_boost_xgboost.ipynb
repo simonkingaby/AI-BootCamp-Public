{
 "cells": [
  {
   "cell_type": "code",
   "execution_count": 1,
   "metadata": {},
   "outputs": [],
   "source": [
    "import pandas as pd\n",
    "from sklearn.model_selection import train_test_split\n",
    "from sklearn.preprocessing import StandardScaler"
   ]
  },
  {
   "cell_type": "code",
   "execution_count": 2,
   "metadata": {},
   "outputs": [],
   "source": [
    "# Read the forest cover dataset\n",
    "df = pd.read_csv('https://static.bc-edx.com/ai/ail-v-1-0/m13/lesson_2/datasets/covtype.csv')\n",
    "\n",
    "# Split the features and target\n",
    "X = df.drop('cover', axis=1)\n",
    "y = df['cover']\n",
    "target_names = [\"Spruce/Fir\", \"Lodgepole Pine\"]"
   ]
  },
  {
   "cell_type": "code",
   "execution_count": 3,
   "metadata": {},
   "outputs": [],
   "source": [
    "# Prepare the data\n",
    "X_train, X_test, y_train, y_test = train_test_split(X, y, random_state=1)\n",
    "scaler = StandardScaler().fit(X_train)\n",
    "X_train_scaled = scaler.transform(X_train)\n",
    "X_test_scaled = scaler.transform(X_test)"
   ]
  },
  {
   "cell_type": "code",
   "execution_count": 4,
   "metadata": {},
   "outputs": [
    {
     "name": "stdout",
     "output_type": "stream",
     "text": [
      "Training Score: 0.7532582938388626\n",
      "Testing Score: 0.7557961063090718\n"
     ]
    }
   ],
   "source": [
    "# Note this is not an sklearn function, but a function from the xgboost package which is not installed by default\n",
    "# Install it with: pip install xgboost\n",
    "from xgboost import XGBClassifier\n",
    "\n",
    "# y values need to be 0 and 1, not 1 and 2\n",
    "y_train1 = y_train - 1\n",
    "y_test1 = y_test - 1\n",
    "\n",
    "#Train the XGBClassifier\n",
    "bst = XGBClassifier(n_estimators=2, max_depth=2, learning_rate=1, objective='binary:logistic')\n",
    "bst.fit(X_train_scaled, y_train1)\n",
    "\n",
    "# Evaluate the model\n",
    "print(f'Training Score: {bst.score(X_train_scaled, y_train1)}')\n",
    "print(f'Testing Score: {bst.score(X_test_scaled, y_test1)}')"
   ]
  }
 ],
 "metadata": {
  "kernelspec": {
   "display_name": "ai",
   "language": "python",
   "name": "python3"
  },
  "language_info": {
   "codemirror_mode": {
    "name": "ipython",
    "version": 3
   },
   "file_extension": ".py",
   "mimetype": "text/x-python",
   "name": "python",
   "nbconvert_exporter": "python",
   "pygments_lexer": "ipython3",
   "version": "3.11.7"
  }
 },
 "nbformat": 4,
 "nbformat_minor": 2
}
