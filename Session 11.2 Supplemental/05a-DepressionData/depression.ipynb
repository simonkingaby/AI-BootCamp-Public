{
 "cells": [
  {
   "cell_type": "code",
   "execution_count": null,
   "metadata": {},
   "outputs": [],
   "source": [
    "import pandas as pd\n",
    "from sklearn.cluster import KMeans\n",
    "from sklearn.preprocessing import StandardScaler\n",
    "import os\n",
    "import warnings\n",
    "\n",
    "os.environ[\"OMP_NUM_THREADS\"] = \"16\"\n",
    "warnings.filterwarnings(\"ignore\", category=UserWarning)"
   ]
  },
  {
   "cell_type": "code",
   "execution_count": null,
   "metadata": {},
   "outputs": [],
   "source": [
    "# Read in the questionnaire answers\n",
    "answers_df = pd.read_csv(\"./Resources/mental_health_finaldata_1.csv\")\n",
    "answers_df.head()"
   ]
  },
  {
   "cell_type": "code",
   "execution_count": null,
   "metadata": {},
   "outputs": [],
   "source": [
    "# Use Label Encoding to convert the Age bands into Category Numbers\n",
    "# First, store and print the categories so the process can be reversed later\n",
    "age_categories = answers_df[\"Age\"].astype('category')\n",
    "# Print the Age categories, just to become familiar with the data\n",
    "print(age_categories)\n",
    "# Encode the Age column using the category codes\n",
    "answers_df[\"Age\"] = age_categories.cat.codes\n",
    "print(answers_df[\"Age\"])"
   ]
  },
  {
   "cell_type": "code",
   "execution_count": null,
   "metadata": {},
   "outputs": [],
   "source": [
    "# Use Label Encoding on the Gender, Occupation, and Days Indoors as well\n",
    "gender_categories = answers_df[\"Gender\"].astype('category')\n",
    "answers_df[\"Gender\"] = gender_categories.cat.codes\n",
    "occupation_categories = answers_df[\"Occupation\"].astype('category')\n",
    "answers_df[\"Occupation\"] = occupation_categories.cat.codes\n",
    "days_categories = answers_df[\"Days Indoors\"].astype('category')\n",
    "answers_df[\"Days Indoors\"] = days_categories.cat.codes\n",
    "answers_df.head()"
   ]
  },
  {
   "cell_type": "code",
   "execution_count": null,
   "metadata": {},
   "outputs": [],
   "source": [
    "# Now, use One-Hot Encoding to convert the remaining columns into numerical data\n",
    "# First, store the columns to be encoded in a variable\n",
    "cols = [\"Growing Stress\", \"Quarantine Frustrations\", \"Changes Habits\", \"Mental Health History\", \"Weight Change\", \"Mood Swings\", \"Coping Struggles\", \"Work Interest\", \"Social Weakness\"]\n",
    "# Use the get_dummies function to encode the columns\n",
    "answers_df = pd.get_dummies(answers_df, columns=cols)\n",
    "answers_df.head()"
   ]
  },
  {
   "cell_type": "code",
   "execution_count": null,
   "metadata": {},
   "outputs": [],
   "source": [
    "# Create a a list to store inertia values\n",
    "inertia = []\n",
    "\n",
    "# Create a a list to store the values of k\n",
    "k = list(range(1, 11))\n",
    "\n",
    "# Create a for-loop where each value of k is evaluated using the K-means algorithm\n",
    "# Fit the model using the spread_df DataFrame\n",
    "# Append the value of the computed inertia from the `inertia_` attribute of the K-means model instance\n",
    "for i in k:\n",
    "    k_model = KMeans(n_clusters=i, n_init='auto', random_state=2)\n",
    "    k_model.fit(answers_df)\n",
    "    inertia.append(k_model.inertia_)"
   ]
  },
  {
   "cell_type": "code",
   "execution_count": null,
   "metadata": {},
   "outputs": [],
   "source": [
    "# Define a DataFrame to hold the values for k and the corresponding inertia\n",
    "elbow_data = {\"k\": k, \"inertia\": inertia}\n",
    "df_elbow = pd.DataFrame(elbow_data)\n",
    "\n",
    "# Review the DataFrame\n",
    "df_elbow.head()"
   ]
  },
  {
   "cell_type": "code",
   "execution_count": null,
   "metadata": {},
   "outputs": [],
   "source": [
    "# Plot the elbow curve\n",
    "df_elbow.plot.line(x=\"k\",\n",
    "                   y=\"inertia\",\n",
    "                   title=\"Elbow Curve\",\n",
    "                   xticks=k)"
   ]
  },
  {
   "cell_type": "code",
   "execution_count": null,
   "metadata": {},
   "outputs": [],
   "source": [
    "# All the other columns are 0s and 1s. We should try scaling the first four columns to see if it improves the model.\n",
    "\n",
    "# create a labelling function\n",
    "def label(col):\n",
    "    answers_df[col] = answers_df[col].astype('category').cat.codes\n",
    "\n",
    "# Start over by reloading the original df\n",
    "# Read in the questionnaire answers\n",
    "answers_df = pd.read_csv(\"./Resources/mental_health_finaldata_1.csv\")\n",
    "\n",
    "# Use Label Encoding\n",
    "label(\"Age\")\n",
    "label(\"Gender\")\n",
    "label(\"Occupation\")\n",
    "label(\"Days Indoors\")\n",
    "\n",
    "# Store the columns to be scaled in a variable\n",
    "cols_to_scale = [\"Age\", \"Gender\", \"Occupation\", \"Days Indoors\"]\n",
    "cols_to_leave = [\"Growing Stress\", \"Quarantine Frustrations\", \"Changes Habits\", \"Mental Health History\", \"Weight Change\", \"Mood Swings\", \"Coping Struggles\", \"Work Interest\", \"Social Weakness\"]\n",
    "\n",
    "# Create a StandardScaler instance\n",
    "scaler = StandardScaler()\n",
    "# Fit the StandardScaler\n",
    "answers_scaled = scaler.fit_transform(answers_df[cols_to_scale])\n",
    "# Convert the scaled data into a DataFrame\n",
    "answers_scaled_df = pd.DataFrame(answers_scaled, columns=cols_to_scale)\n",
    "# Join the scaled dataframe to the remaining columns from the original dataframe\n",
    "answers_result_df = answers_scaled_df.join(answers_df[cols_to_leave])\n",
    "\n",
    "# One-Hot Encode the remaining columns\n",
    "answers_result_df = pd.get_dummies(answers_result_df, columns=cols_to_leave)\n",
    "answers_result_df.head()\n"
   ]
  },
  {
   "cell_type": "code",
   "execution_count": null,
   "metadata": {},
   "outputs": [],
   "source": [
    "# Now run K-means again, using the scaled data\n",
    "# Create a a list to store inertia values\n",
    "inertia = []\n",
    "\n",
    "# Create a a list to store the values of k\n",
    "k = list(range(1, 11))\n",
    "\n",
    "# Create a for-loop where each value of k is evaluated using the K-means algorithm\n",
    "# Fit the model using the spread_df DataFrame\n",
    "# Append the value of the computed inertia from the `inertia_` attribute of the K-means model instance\n",
    "for i in k:\n",
    "    k_model = KMeans(n_clusters=i, n_init='auto', random_state=2)\n",
    "    k_model.fit(answers_result_df)\n",
    "    inertia.append(k_model.inertia_)"
   ]
  },
  {
   "cell_type": "code",
   "execution_count": null,
   "metadata": {},
   "outputs": [],
   "source": [
    "elbow_data_scaled = {\"k\": k, \"inertia\": inertia}\n",
    "df_elbow_scaled = pd.DataFrame(elbow_data_scaled)\n",
    "\n",
    "# Review the DataFrame\n",
    "df_elbow_scaled.head()"
   ]
  },
  {
   "cell_type": "code",
   "execution_count": null,
   "metadata": {},
   "outputs": [],
   "source": [
    "# Plot the elbow curve\n",
    "df_elbow_scaled.plot.line(x=\"k\",\n",
    "                   y=\"inertia\",\n",
    "                   title=\"Elbow Curve\",\n",
    "                   xticks=k)"
   ]
  },
  {
   "cell_type": "code",
   "execution_count": null,
   "metadata": {},
   "outputs": [],
   "source": [
    "import matplotlib.pyplot as plt\n",
    "\n",
    "fig, (plt1, plt2) = plt.subplots(1, 2, figsize=(20, 8))\n",
    "fig.suptitle('Elbow Curves')\n",
    "plt1.plot(df_elbow[\"k\"], df_elbow[\"inertia\"])\n",
    "plt1.set_title(\"Original Data\")\n",
    "plt2.plot(df_elbow_scaled[\"k\"], df_elbow_scaled[\"inertia\"])\n",
    "plt2.set_title(\"Scaled Data\")\n",
    "plt.show()"
   ]
  },
  {
   "cell_type": "code",
   "execution_count": null,
   "metadata": {},
   "outputs": [],
   "source": []
  }
 ],
 "metadata": {
  "kernelspec": {
   "display_name": "ai",
   "language": "python",
   "name": "python3"
  },
  "language_info": {
   "codemirror_mode": {
    "name": "ipython",
    "version": 3
   },
   "file_extension": ".py",
   "mimetype": "text/x-python",
   "name": "python",
   "nbconvert_exporter": "python",
   "pygments_lexer": "ipython3",
   "version": "3.11.7"
  }
 },
 "nbformat": 4,
 "nbformat_minor": 2
}
