{
 "cells": [
  {
   "cell_type": "markdown",
   "metadata": {},
   "source": [
    "# Car Evaluation\n",
    "\n",
    "1. Title: Car Evaluation Database\n",
    "\n",
    "2. Sources:\n",
    "   (a) Creator: Marko Bohanec\n",
    "   (b) Donors: Marko Bohanec   (marko.bohanec@ijs.si)\n",
    "               Blaz Zupan      (blaz.zupan@ijs.si)\n",
    "   (c) Date: June, 1997\n",
    "\n",
    "3. Past Usage:\n",
    "\n",
    "   The hierarchical decision model, from which this dataset is derived, was first presented in M. Bohanec and V. Rajkovic: Knowledge acquisition and explanation for multi-attribute decision making. In 8th Intl Workshop on Expert Systems and their Applications, Avignon, France. pages 59-78, 1988.\n",
    "\n",
    "   Within machine-learning, this dataset was used for the evaluation of HINT (Hierarchy INduction Tool), which was proved to be able to completely reconstruct the original hierarchical model. This, together with a comparison with C4.5, is presented in B. Zupan, M. Bohanec, I. Bratko, J. Demsar: Machine learning by\n",
    "   function decomposition. ICML-97, Nashville, TN. 1997 (to appear)\n",
    "\n",
    "4. Relevant Information Paragraph:\n",
    "\n",
    "   Car Evaluation Database was derived from a simple hierarchical decision model originally developed for the demonstration of DEX (M. Bohanec, V. Rajkovic: Expert system for decision making. Sistemica 1(1), pp. 145-157, 1990.). The model evaluates cars according to the following concept structure:\n",
    "\n",
    "   ```text\n",
    "   CAR                      car acceptability\n",
    "   . PRICE                  overall price\n",
    "   . . buying               buying price\n",
    "   . . maint                price of the maintenance\n",
    "   . TECH                   technical characteristics\n",
    "   . . COMFORT              comfort\n",
    "   . . . doors              number of doors\n",
    "   . . . persons            capacity in terms of persons to carry\n",
    "   . . . lug_boot           the size of luggage boot\n",
    "   . . safety               estimated safety of the car\n",
    "   ```\n",
    "\n",
    "   Input attributes are printed in lowercase. Besides the target concept (CAR), the model includes three intermediate concepts:  PRICE, TECH, COMFORT. Every concept is in the original model related to its lower level descendants by a set of examples (for these examples sets see http://www-ai.ijs.si/BlazZupan/car.html).\n",
    "\n",
    "   The Car Evaluation Database contains examples with the structural information removed, i.e., directly relates CAR to the six input attributes: buying, maint, doors, persons, lug_boot, safety.\n",
    "\n",
    "   Because of known underlying concept structure, this database may be particularly useful for testing constructive induction and structure discovery methods.\n",
    "\n",
    "5. Number of Instances: 1728\n",
    "   (instances completely cover the attribute space)\n",
    "\n",
    "6. Number of Attributes: 6\n",
    "\n",
    "7. Attribute Values:\n",
    "\n",
    "   ```text\n",
    "   buying       v-high, high, med, low\n",
    "   maint        v-high, high, med, low\n",
    "   doors        2, 3, 4, 5-more\n",
    "   persons      2, 4, more\n",
    "   lug_boot     small, med, big\n",
    "   safety       low, med, high\n",
    "   ```\n",
    "\n",
    "8. Missing Attribute Values: none\n",
    "\n",
    "9. Class Distribution (number of instances per class)\n",
    "\n",
    "   ```text\n",
    "   class      N          N[%]\n",
    "   -----------------------------\n",
    "   unacc     1210     (70.023 %) \n",
    "   acc        384     (22.222 %) \n",
    "   good        69     ( 3.993 %) \n",
    "   v-good      65     ( 3.762 %) \n",
    "   ```"
   ]
  },
  {
   "cell_type": "code",
   "execution_count": 1,
   "metadata": {},
   "outputs": [],
   "source": [
    "# Import required dependencies\n",
    "import pandas as pd\n",
    "from sklearn.model_selection import train_test_split\n",
    "from sklearn.preprocessing import OneHotEncoder, LabelEncoder\n",
    "from sklearn.linear_model import LinearRegression, LogisticRegression\n",
    "from sklearn.svm import SVR, SVC \n",
    "from sklearn.neighbors import KNeighborsRegressor, KNeighborsClassifier\n",
    "from sklearn.tree import DecisionTreeClassifier\n",
    "from sklearn.ensemble import RandomForestRegressor, ExtraTreesRegressor, AdaBoostRegressor, RandomForestClassifier\n",
    "from sklearn.metrics import mean_squared_error, r2_score, accuracy_score, confusion_matrix, classification_report, balanced_accuracy_score, roc_auc_score"
   ]
  },
  {
   "cell_type": "markdown",
   "metadata": {},
   "source": [
    "# Build a Pipeline Function Instead"
   ]
  },
  {
   "cell_type": "code",
   "execution_count": 2,
   "metadata": {},
   "outputs": [],
   "source": [
    "# Import data\n",
    "file_path = \"https://static.bc-edx.com/ai/ail-v-1-0/m13/lesson_3/datasets/car.csv\"\n",
    "df = pd.read_csv(file_path)\n",
    "# Get the target variable (the \"class\" column)\n",
    "y = df[\"class\"]\n",
    "# Get the features (everything except the \"class\" column)\n",
    "X = df.copy().drop(columns=\"class\")\n",
    "# Split data into training and testing\n",
    "X_train, X_test, y_train, y_test = train_test_split(X, y, random_state=42)"
   ]
  },
  {
   "cell_type": "code",
   "execution_count": 3,
   "metadata": {},
   "outputs": [
    {
     "name": "stdout",
     "output_type": "stream",
     "text": [
      "Model: LinearRegression()\n",
      "Model: KNeighborsRegressor(n_neighbors=9)\n",
      "Model: RandomForestRegressor(n_estimators=128, random_state=1)\n",
      "Model: ExtraTreesRegressor(n_estimators=128, random_state=1)\n",
      "Model: AdaBoostRegressor(n_estimators=128, random_state=1)\n",
      "Model: SVR(epsilon=0.2)\n",
      "Model: LogisticRegression(random_state=1)\n",
      "Model: SVC(kernel='poly', probability=True)\n",
      "Model: KNeighborsClassifier(n_neighbors=9)\n",
      "Model: DecisionTreeClassifier()\n",
      "Model: RandomForestClassifier(n_estimators=128, random_state=1)\n"
     ]
    }
   ],
   "source": [
    "def r2_adj(x, y, p):\n",
    "    r2 = r2_score(y, p)\n",
    "    n_cols = x.shape[1]\n",
    "    return 1 - (1 - r2) * (len(y) - 1) / (len(y) - n_cols - 1)\n",
    "\n",
    "def run_pipeline(model, X_train, X_test, y_train, y_test):\n",
    "    # Since the target column is an object, we need to convert the data to numerical classes\n",
    "    # Encode the y data\n",
    "    # Create an instance of the label encoder\n",
    "    le = LabelEncoder()\n",
    "\n",
    "    # Fit and transform the y training and testing data using the label encoder\n",
    "    y_train_encoded = le.fit_transform(y_train)\n",
    "    y_test_encoded = le.transform(y_test)\n",
    "\n",
    "    # Remember that all of the columns in the DataFrame are objects\n",
    "    # Use a OneHotEncoder to convert the training data to numerical values\n",
    "    ohe = OneHotEncoder(handle_unknown='ignore', sparse_output=False, dtype='int')\n",
    "    X_train_encoded = pd.DataFrame(data=ohe.fit_transform(X_train), columns=ohe.get_feature_names_out())\n",
    "    X_test_encoded = pd.DataFrame(data=ohe.transform(X_test), columns=ohe.get_feature_names_out())\n",
    "\n",
    "    # Fit the model to the training data\n",
    "    model.fit(X_train_encoded, y_train_encoded)\n",
    "    preds = model.predict(X_test_encoded)\n",
    "    \n",
    "    # Validate the model by checking the model metrics\n",
    "    if \"Regress\" in model.__class__.__name__ or \"SVR\" in model.__class__.__name__:\n",
    "        mse = mean_squared_error(y_test_encoded, preds)\n",
    "        r2 = r2_score(y_test_encoded, preds)\n",
    "        adj_r2 = r2_adj(X_test_encoded, y_test_encoded, preds)\n",
    "        return pd.DataFrame([{\"Mean Squared Error:\": mse, \"R-Squared:\": r2, \"Adjusted R-squared:\": adj_r2}])\n",
    "    else:\n",
    "        train_accuracy = accuracy_score(y_train_encoded, model.predict(X_train_encoded))\n",
    "        test_accuracy = accuracy_score(y_test_encoded, preds)\n",
    "        cm = confusion_matrix(y_test_encoded, preds)\n",
    "        cr = classification_report(y_test_encoded, preds)\n",
    "        bas = balanced_accuracy_score(y_test_encoded, preds)\n",
    "        roc = \"N/A\"\n",
    "        if \"SVC\" in model.__class__.__name__:\n",
    "            preds_proba = model.predict_proba(X_test_encoded)\n",
    "            roc = roc_auc_score(y_test_encoded, preds_proba, multi_class='ovr')\n",
    "        return pd.DataFrame([{\"Training Accuracy:\": train_accuracy, \"Testing Accuracy:\": test_accuracy, \"Balanced Accuracy Score:\": bas, \"ROC AUC Score:\": roc,\n",
    "            \"Confusion Matrix:\\n\": cm, \"Classification Report:\\n\": cr}])\n",
    "\n",
    "\n",
    "models = [LinearRegression(), KNeighborsRegressor(n_neighbors=9), RandomForestRegressor(n_estimators=128, random_state=1), ExtraTreesRegressor(n_estimators=128, random_state=1), \n",
    "          AdaBoostRegressor(n_estimators=128, random_state=1), SVR(C=1.0, epsilon=0.2),\n",
    "          LogisticRegression(random_state=1), SVC(kernel='poly', probability=True), KNeighborsClassifier(n_neighbors=9), DecisionTreeClassifier(), \n",
    "          RandomForestClassifier(n_estimators=128, random_state=1)]\n",
    "# output the metrics to a markdown file\n",
    "with open(\"metrics.md\", \"w\") as f:\n",
    "    f.write(\"# Model Metrics\\n\")\n",
    "    for m in models:\n",
    "        metrics_df = run_pipeline(m, X_train, X_test, y_train, y_test)\n",
    "        print(f\"Model: {m}\")\n",
    "        f.write(f\"## Model: {m}\\n\")\n",
    "        f.write(\"| Metric | Value |\\n\")\n",
    "        f.write(\"| :--- | ---: |\\n\")\n",
    "        keys = metrics_df.keys()\n",
    "        for metric, value in metrics_df.iloc[0].items():\n",
    "            if metric == \"Confusion Matrix:\\n\" or metric == \"Classification Report:\\n\":\n",
    "                f.write(f\"```\\n{metric} {value}\\n```\\n\")\n",
    "            else:\n",
    "                f.write(f\"|{metric}|{value}| \\n\")\n",
    "        f.write(\"\\n\")"
   ]
  },
  {
   "cell_type": "code",
   "execution_count": null,
   "metadata": {},
   "outputs": [],
   "source": []
  }
 ],
 "metadata": {
  "kernelspec": {
   "display_name": "Python 3 (ipykernel)",
   "language": "python",
   "name": "python3"
  },
  "language_info": {
   "codemirror_mode": {
    "name": "ipython",
    "version": 3
   },
   "file_extension": ".py",
   "mimetype": "text/x-python",
   "name": "python",
   "nbconvert_exporter": "python",
   "pygments_lexer": "ipython3",
   "version": "3.11.7"
  },
  "varInspector": {
   "cols": {
    "lenName": 16,
    "lenType": 16,
    "lenVar": 40
   },
   "kernels_config": {
    "python": {
     "delete_cmd_postfix": "",
     "delete_cmd_prefix": "del ",
     "library": "var_list.py",
     "varRefreshCmd": "print(var_dic_list())"
    },
    "r": {
     "delete_cmd_postfix": ") ",
     "delete_cmd_prefix": "rm(",
     "library": "var_list.r",
     "varRefreshCmd": "cat(var_dic_list()) "
    }
   },
   "types_to_exclude": [
    "module",
    "function",
    "builtin_function_or_method",
    "instance",
    "_Feature"
   ],
   "window_display": false
  }
 },
 "nbformat": 4,
 "nbformat_minor": 2
}
