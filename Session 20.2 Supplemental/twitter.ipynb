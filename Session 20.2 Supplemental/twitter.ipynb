{
 "cells": [
  {
   "cell_type": "code",
   "execution_count": 13,
   "metadata": {},
   "outputs": [],
   "source": [
    "import dotenv\n",
    "import os\n",
    "import requests\n",
    "import json\n",
    "from requests_oauthlib import OAuth1Session\n",
    "\n",
    "dotenv.load_dotenv()\n",
    "\n",
    "TWITTER_API = os.getenv(\"TWITTER_API\")\n",
    "TWITTER_SECRET = os.getenv(\"TWITTER_SECRET\")\n",
    "TWITTER_TOKEN = os.getenv(\"TWITTER_TOKEN\")\n",
    "TWITTER_TOKEN_SECRET = os.getenv(\"TWITTER_TOKEN_SECRET\")\n",
    "USERNAME = \"SimonKingaby\"\n",
    "consumer_key = TWITTER_API\n",
    "consumer_secret = TWITTER_SECRET\n",
    "\n",
    "request_token_url = \"https://api.twitter.com/oauth/request_token\"\n",
    "oauth = OAuth1Session(consumer_key, client_secret=consumer_secret)"
   ]
  },
  {
   "cell_type": "code",
   "execution_count": 14,
   "metadata": {},
   "outputs": [],
   "source": [
    "try:\n",
    "    fetch_response = oauth.fetch_request_token(request_token_url)\n",
    "except ValueError:\n",
    "    print(\n",
    "        \"There may have been an issue with the consumer_key or consumer_secret you entered.\"\n",
    "    )"
   ]
  },
  {
   "cell_type": "code",
   "execution_count": 15,
   "metadata": {},
   "outputs": [],
   "source": [
    "resource_owner_key = fetch_response.get(\"oauth_token\")\n",
    "resource_owner_secret = fetch_response.get(\"oauth_token_secret\")"
   ]
  },
  {
   "cell_type": "code",
   "execution_count": 16,
   "metadata": {},
   "outputs": [
    {
     "name": "stdout",
     "output_type": "stream",
     "text": [
      "Please go here and authorize: https://api.twitter.com/oauth/authorize?oauth_token=pm1BRQAAAAAA6KX4AAABjl5ejCE\n"
     ]
    }
   ],
   "source": [
    "# Get authorization\n",
    "base_authorization_url = \"https://api.twitter.com/oauth/authorize\"\n",
    "authorization_url = oauth.authorization_url(base_authorization_url)\n",
    "print(\"Please go here and authorize: %s\" % authorization_url)\n",
    "verifier = input(\"Paste the PIN here: \")"
   ]
  },
  {
   "cell_type": "code",
   "execution_count": 17,
   "metadata": {},
   "outputs": [],
   "source": [
    "# Get the access token\n",
    "access_token_url = \"https://api.twitter.com/oauth/access_token\"\n",
    "oauth = OAuth1Session(\n",
    "    consumer_key,\n",
    "    client_secret=consumer_secret,\n",
    "    resource_owner_key=resource_owner_key,\n",
    "    resource_owner_secret=resource_owner_secret,\n",
    "    verifier=verifier,\n",
    ")\n",
    "oauth_tokens = oauth.fetch_access_token(access_token_url)"
   ]
  },
  {
   "cell_type": "code",
   "execution_count": 18,
   "metadata": {},
   "outputs": [],
   "source": [
    "access_token = oauth_tokens[\"oauth_token\"]\n",
    "access_token_secret = oauth_tokens[\"oauth_token_secret\"]"
   ]
  },
  {
   "cell_type": "code",
   "execution_count": 19,
   "metadata": {},
   "outputs": [],
   "source": [
    "# Make the request\n",
    "oauth = OAuth1Session(\n",
    "    consumer_key,\n",
    "    client_secret=consumer_secret,\n",
    "    resource_owner_key=access_token,\n",
    "    resource_owner_secret=access_token_secret,\n",
    ")"
   ]
  },
  {
   "cell_type": "code",
   "execution_count": 21,
   "metadata": {},
   "outputs": [],
   "source": [
    "# You can adjust ids to include a single Tweets\n",
    "# Or you can add to up to 100 comma-separated IDs\n",
    "params = {\"ids\": \"1278747501642657792\", \"tweet.fields\": \"created_at\"}\n",
    "# Tweet fields are adjustable.\n",
    "# Options include:\n",
    "# attachments, author_id, context_annotations,\n",
    "# conversation_id, created_at, entities, geo, id,\n",
    "# in_reply_to_user_id, lang, non_public_metrics, organic_metrics,\n",
    "# possibly_sensitive, promoted_metrics, public_metrics, referenced_tweets,\n",
    "# source, text, and withheld\n",
    "\n",
    "response = oauth.get(\n",
    "    \"https://api.twitter.com/2/tweets\", params=params\n",
    ")"
   ]
  },
  {
   "cell_type": "code",
   "execution_count": 22,
   "metadata": {},
   "outputs": [
    {
     "ename": "Exception",
     "evalue": "Request returned an error: 403 {\"client_id\":\"15246840\",\"detail\":\"When authenticating requests to the Twitter API v2 endpoints, you must use keys and tokens from a Twitter developer App that is attached to a Project. You can create a project via the developer portal.\",\"registration_url\":\"https://developer.twitter.com/en/docs/projects/overview\",\"title\":\"Client Forbidden\",\"required_enrollment\":\"Appropriate Level of API Access\",\"reason\":\"client-not-enrolled\",\"type\":\"https://api.twitter.com/2/problems/client-forbidden\"}",
     "output_type": "error",
     "traceback": [
      "\u001b[1;31m---------------------------------------------------------------------------\u001b[0m",
      "\u001b[1;31mException\u001b[0m                                 Traceback (most recent call last)",
      "Cell \u001b[1;32mIn[22], line 2\u001b[0m\n\u001b[0;32m      1\u001b[0m \u001b[38;5;28;01mif\u001b[39;00m response\u001b[38;5;241m.\u001b[39mstatus_code \u001b[38;5;241m!=\u001b[39m \u001b[38;5;241m200\u001b[39m:\n\u001b[1;32m----> 2\u001b[0m     \u001b[38;5;28;01mraise\u001b[39;00m \u001b[38;5;167;01mException\u001b[39;00m(\n\u001b[0;32m      3\u001b[0m         \u001b[38;5;124m\"\u001b[39m\u001b[38;5;124mRequest returned an error: \u001b[39m\u001b[38;5;132;01m{}\u001b[39;00m\u001b[38;5;124m \u001b[39m\u001b[38;5;132;01m{}\u001b[39;00m\u001b[38;5;124m\"\u001b[39m\u001b[38;5;241m.\u001b[39mformat(response\u001b[38;5;241m.\u001b[39mstatus_code, response\u001b[38;5;241m.\u001b[39mtext)\n\u001b[0;32m      4\u001b[0m     )\n",
      "\u001b[1;31mException\u001b[0m: Request returned an error: 403 {\"client_id\":\"15246840\",\"detail\":\"When authenticating requests to the Twitter API v2 endpoints, you must use keys and tokens from a Twitter developer App that is attached to a Project. You can create a project via the developer portal.\",\"registration_url\":\"https://developer.twitter.com/en/docs/projects/overview\",\"title\":\"Client Forbidden\",\"required_enrollment\":\"Appropriate Level of API Access\",\"reason\":\"client-not-enrolled\",\"type\":\"https://api.twitter.com/2/problems/client-forbidden\"}"
     ]
    }
   ],
   "source": [
    "if response.status_code != 200:\n",
    "    raise Exception(\n",
    "        \"Request returned an error: {} {}\".format(response.status_code, response.text)\n",
    "    )"
   ]
  },
  {
   "cell_type": "code",
   "execution_count": null,
   "metadata": {},
   "outputs": [],
   "source": []
  }
 ],
 "metadata": {
  "kernelspec": {
   "display_name": "ai",
   "language": "python",
   "name": "python3"
  },
  "language_info": {
   "codemirror_mode": {
    "name": "ipython",
    "version": 3
   },
   "file_extension": ".py",
   "mimetype": "text/x-python",
   "name": "python",
   "nbconvert_exporter": "python",
   "pygments_lexer": "ipython3",
   "version": "3.11.7"
  }
 },
 "nbformat": 4,
 "nbformat_minor": 2
}
