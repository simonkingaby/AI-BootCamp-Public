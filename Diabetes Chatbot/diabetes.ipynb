{
 "cells": [
  {
   "cell_type": "code",
   "execution_count": 1,
   "metadata": {},
   "outputs": [],
   "source": [
    "import pandas as pd\n",
    "from sklearn.preprocessing import OneHotEncoder, StandardScaler\n",
    "from sklearn.model_selection import train_test_split\n",
    "from sklearn.ensemble import RandomForestClassifier\n",
    "from sklearn.metrics import accuracy_score, classification_report, confusion_matrix\n",
    "import joblib"
   ]
  },
  {
   "cell_type": "code",
   "execution_count": 2,
   "metadata": {},
   "outputs": [
    {
     "name": "stdout",
     "output_type": "stream",
     "text": [
      "   gender   age  hypertension  heart_disease smoking_history   bmi  \\\n",
      "0  Female 80.00             0              1           never 25.19   \n",
      "1  Female 54.00             0              0         No Info 27.32   \n",
      "2    Male 28.00             0              0           never 27.32   \n",
      "3  Female 36.00             0              0         current 23.45   \n",
      "4    Male 76.00             1              1         current 20.14   \n",
      "\n",
      "   HbA1c_level  blood_glucose_level  diabetes  \n",
      "0         6.60                  140         0  \n",
      "1         6.60                   80         0  \n",
      "2         5.70                  158         0  \n",
      "3         5.00                  155         0  \n",
      "4         4.80                  155         0  \n"
     ]
    },
    {
     "data": {
      "text/plain": [
       "smoking_history\n",
       "No Info    35816\n",
       "never      35095\n",
       "former     19803\n",
       "current     9286\n",
       "Name: count, dtype: int64"
      ]
     },
     "execution_count": 2,
     "metadata": {},
     "output_type": "execute_result"
    }
   ],
   "source": [
    "# Set the decimal format\n",
    "pd.options.display.float_format = \"{:.2f}\".format\n",
    "\n",
    "# Load the dataset from Kaggle\n",
    "# https://www.kaggle.com/datasets/iammustafatz/diabetes-prediction-dataset\n",
    "df = pd.read_csv(\"./diabetes_prediction_dataset.csv\")\n",
    "\n",
    "# Display the first 5 rows of the dataset\n",
    "print(df.head())\n",
    "df[\"smoking_history\"].value_counts()\n",
    "# update not current and ever to former\n",
    "df[\"smoking_history\"] = df[\"smoking_history\"].replace(\"ever\", \"former\")\n",
    "df[\"smoking_history\"] = df[\"smoking_history\"].replace(\"not current\", \"former\")\n",
    "df[\"smoking_history\"].value_counts()\n"
   ]
  },
  {
   "cell_type": "code",
   "execution_count": 3,
   "metadata": {},
   "outputs": [
    {
     "name": "stdout",
     "output_type": "stream",
     "text": [
      "Accuracy: 0.91\n",
      "              precision    recall  f1-score   support\n",
      "\n",
      "           0       0.92      0.99      0.95     18292\n",
      "           1       0.40      0.04      0.07      1708\n",
      "\n",
      "    accuracy                           0.91     20000\n",
      "   macro avg       0.66      0.52      0.51     20000\n",
      "weighted avg       0.87      0.91      0.88     20000\n",
      "\n",
      "[[18195    97]\n",
      " [ 1643    65]]\n"
     ]
    },
    {
     "data": {
      "text/plain": [
       "['diabetes_model.pkl']"
      ]
     },
     "execution_count": 3,
     "metadata": {},
     "output_type": "execute_result"
    }
   ],
   "source": [
    "# Drop the blood test features\n",
    "df = df.drop(columns=[\"HbA1c_level\", \"blood_glucose_level\"])\n",
    "# Split the data into the features and the target\n",
    "y = df[\"diabetes\"]\n",
    "X = df.drop(columns=[\"diabetes\"])\n",
    "# Encode the categorical columns\n",
    "ohe = OneHotEncoder(sparse_output=False, drop=\"if_binary\", dtype=int)\n",
    "X_encoded = ohe.fit_transform(X)\n",
    "# Split the data into training and testing sets\n",
    "X_train, X_test, y_train, y_test = train_test_split(X_encoded, y, test_size=0.2, random_state=42)\n",
    "# Scale the data\n",
    "scaler = StandardScaler()\n",
    "X_train_scaled = scaler.fit_transform(X_train)\n",
    "X_test_scaled = scaler.transform(X_test)\n",
    "# Train the model\n",
    "model = RandomForestClassifier(random_state=42)\n",
    "model.fit(X_train_scaled, y_train)\n",
    "# Make predictions\n",
    "y_pred = model.predict(X_test_scaled)\n",
    "# Evaluate the model\n",
    "accuracy = accuracy_score(y_test, y_pred)\n",
    "print(f\"Accuracy: {accuracy:.2f}\")\n",
    "print(classification_report(y_test, y_pred))\n",
    "print(confusion_matrix(y_test, y_pred))\n",
    "# Save the encoder, scaler, and model to pickle files\n",
    "joblib.dump(ohe, \"encoder.pkl\")\n",
    "joblib.dump(scaler, \"scaler.pkl\")\n",
    "joblib.dump(model, \"diabetes_model.pkl\")"
   ]
  },
  {
   "cell_type": "code",
   "execution_count": 4,
   "metadata": {},
   "outputs": [
    {
     "name": "stdout",
     "output_type": "stream",
     "text": [
      "Prediction: No diabetes\n"
     ]
    }
   ],
   "source": [
    "import pandas as pd\n",
    "\n",
    "age = 35\n",
    "gender = \"Male\"\n",
    "bmi = 23.0\n",
    "smoking_history = \"never\"\n",
    "hypertension = 0\n",
    "heart_disease = 0\n",
    "# gender   age  hypertension  heart_disease smoking_history   bmi\n",
    "data = {\"gender\": gender, \"age\": age, \"hypertension\": hypertension, \"heart_disease\": heart_disease, \"smoking_history\": smoking_history, \"bmi\": bmi}\n",
    "df = pd.DataFrame(data, index=[0])\n",
    "ohe = joblib.load(\"encoder.pkl\")\n",
    "df = ohe.transform(df)\n",
    "scaler = joblib.load(\"scaler.pkl\")\n",
    "df = scaler.transform(df)\n",
    "model = joblib.load(\"diabetes_model.pkl\")\n",
    "prediction = model.predict(df)\n",
    "if prediction[0] == 0:\n",
    "    print(\"Prediction: No diabetes\")\n",
    "else:   \n",
    "    print(\"Prediction: Diabetes\")"
   ]
  },
  {
   "cell_type": "code",
   "execution_count": null,
   "metadata": {},
   "outputs": [],
   "source": []
  }
 ],
 "metadata": {
  "kernelspec": {
   "display_name": "ai",
   "language": "python",
   "name": "python3"
  },
  "language_info": {
   "codemirror_mode": {
    "name": "ipython",
    "version": 3
   },
   "file_extension": ".py",
   "mimetype": "text/x-python",
   "name": "python",
   "nbconvert_exporter": "python",
   "pygments_lexer": "ipython3",
   "version": "3.11.7"
  }
 },
 "nbformat": 4,
 "nbformat_minor": 2
}
