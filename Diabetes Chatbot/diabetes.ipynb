{
 "cells": [
  {
   "cell_type": "code",
   "execution_count": 25,
   "metadata": {},
   "outputs": [],
   "source": [
    "import pandas as pd\n",
    "from sklearn.compose import ColumnTransformer\n",
    "from sklearn.preprocessing import OneHotEncoder, StandardScaler\n",
    "from sklearn.model_selection import train_test_split\n",
    "from sklearn.ensemble import RandomForestClassifier\n",
    "from sklearn.metrics import accuracy_score, classification_report, confusion_matrix\n",
    "import pickle"
   ]
  },
  {
   "cell_type": "code",
   "execution_count": 26,
   "metadata": {},
   "outputs": [
    {
     "name": "stdout",
     "output_type": "stream",
     "text": [
      "   gender   age  hypertension  heart_disease smoking_history   bmi  \\\n",
      "0  Female 80.00             0              1           never 25.19   \n",
      "1  Female 54.00             0              0         No Info 27.32   \n",
      "2    Male 28.00             0              0           never 27.32   \n",
      "3  Female 36.00             0              0         current 23.45   \n",
      "4    Male 76.00             1              1         current 20.14   \n",
      "\n",
      "   HbA1c_level  blood_glucose_level  diabetes  \n",
      "0         6.60                  140         0  \n",
      "1         6.60                   80         0  \n",
      "2         5.70                  158         0  \n",
      "3         5.00                  155         0  \n",
      "4         4.80                  155         0  \n"
     ]
    },
    {
     "data": {
      "text/plain": [
       "smoking_history\n",
       "No Info    35816\n",
       "never      35095\n",
       "former     19803\n",
       "current     9286\n",
       "Name: count, dtype: int64"
      ]
     },
     "execution_count": 26,
     "metadata": {},
     "output_type": "execute_result"
    }
   ],
   "source": [
    "# Set the decimal format\n",
    "pd.options.display.float_format = \"{:.2f}\".format\n",
    "\n",
    "# Load the dataset from Kaggle\n",
    "# https://www.kaggle.com/datasets/iammustafatz/diabetes-prediction-dataset\n",
    "df = pd.read_csv(\"./diabetes_prediction_dataset.csv\")\n",
    "\n",
    "# Display the first 5 rows of the dataset\n",
    "print(df.head())\n",
    "df[\"smoking_history\"].value_counts()\n",
    "# update not current and ever to former\n",
    "df[\"smoking_history\"] = df[\"smoking_history\"].replace(\"ever\", \"former\")\n",
    "df[\"smoking_history\"] = df[\"smoking_history\"].replace(\"not current\", \"former\")\n",
    "df[\"smoking_history\"].value_counts()\n"
   ]
  },
  {
   "cell_type": "code",
   "execution_count": 27,
   "metadata": {},
   "outputs": [
    {
     "name": "stdout",
     "output_type": "stream",
     "text": [
      "   ohe__gender_Female  ohe__gender_Male  ohe__gender_Other  \\\n",
      "0                1.00              0.00               0.00   \n",
      "1                1.00              0.00               0.00   \n",
      "2                0.00              1.00               0.00   \n",
      "3                1.00              0.00               0.00   \n",
      "4                0.00              1.00               0.00   \n",
      "\n",
      "   ohe__smoking_history_No Info  ohe__smoking_history_current  \\\n",
      "0                          0.00                          0.00   \n",
      "1                          1.00                          0.00   \n",
      "2                          0.00                          0.00   \n",
      "3                          0.00                          1.00   \n",
      "4                          0.00                          1.00   \n",
      "\n",
      "   ohe__smoking_history_former  ohe__smoking_history_never  remainder__age  \\\n",
      "0                         0.00                        1.00           80.00   \n",
      "1                         0.00                        0.00           54.00   \n",
      "2                         0.00                        1.00           28.00   \n",
      "3                         0.00                        0.00           36.00   \n",
      "4                         0.00                        0.00           76.00   \n",
      "\n",
      "   remainder__hypertension  remainder__heart_disease  remainder__bmi  \n",
      "0                     0.00                      1.00           25.19  \n",
      "1                     0.00                      0.00           27.32  \n",
      "2                     0.00                      0.00           27.32  \n",
      "3                     0.00                      0.00           23.45  \n",
      "4                     1.00                      1.00           20.14  \n"
     ]
    }
   ],
   "source": [
    "# Drop the blood test features\n",
    "df = df.drop(columns=[\"HbA1c_level\", \"blood_glucose_level\"])\n",
    "# Split the data into the features and the target\n",
    "y = df[\"diabetes\"]\n",
    "X = df.drop(columns=[\"diabetes\"])\n",
    "# Encode the categorical columns\n",
    "ohe = OneHotEncoder(sparse_output=False, drop=\"if_binary\", dtype=int)\n",
    "ct = ColumnTransformer(transformers=[(\"ohe\", ohe, ['gender', 'smoking_history'])], remainder=\"passthrough\")\n",
    "X_encoded = ct.fit_transform(X)\n",
    "X_encoded = pd.DataFrame(X_encoded, columns=ct.get_feature_names_out())\n",
    "# Display the first 5 rows of the encoded features\n",
    "print(X_encoded.head())\n",
    "\n"
   ]
  },
  {
   "cell_type": "code",
   "execution_count": 28,
   "metadata": {},
   "outputs": [
    {
     "data": {
      "text/plain": [
       "array([[-1.18685419,  1.18734314, -0.01414355, ..., -0.28630923,\n",
       "        -0.20355869, -0.38647449],\n",
       "       [-1.18685419,  1.18734314, -0.01414355, ..., -0.28630923,\n",
       "        -0.20355869, -0.41217229],\n",
       "       [ 0.84256348, -0.84221652, -0.01414355, ..., -0.28630923,\n",
       "        -0.20355869, -0.45298645],\n",
       "       ...,\n",
       "       [-1.18685419,  1.18734314, -0.01414355, ..., -0.28630923,\n",
       "        -0.20355869, -0.17938044],\n",
       "       [ 0.84256348, -0.84221652, -0.01414355, ..., -0.28630923,\n",
       "        -0.20355869, -0.35775342],\n",
       "       [ 0.84256348, -0.84221652, -0.01414355, ..., -0.28630923,\n",
       "        -0.20355869,  0.1002721 ]])"
      ]
     },
     "execution_count": 28,
     "metadata": {},
     "output_type": "execute_result"
    }
   ],
   "source": [
    "# Split the data into training and testing sets\n",
    "X_train, X_test, y_train, y_test = train_test_split(X_encoded, y, test_size=0.2, random_state=42)\n",
    "# Scale the data\n",
    "scaler = StandardScaler()\n",
    "X_train_scaled = scaler.fit_transform(X_train)\n",
    "X_test_scaled = scaler.transform(X_test)\n",
    "X_train_scaled"
   ]
  },
  {
   "cell_type": "code",
   "execution_count": 29,
   "metadata": {},
   "outputs": [],
   "source": [
    "# Train the model\n",
    "model = RandomForestClassifier(random_state=42)\n",
    "model.fit(X_train_scaled, y_train)\n",
    "\n",
    "# Save the encoder, scaler, and model to pickle files\n",
    "with open(\"encoder.pkl\", \"wb\") as f:\n",
    "    pickle.dump(ct, f)\n",
    "with open(\"scaler.pkl\", \"wb\") as f:\n",
    "    pickle.dump(scaler, f)\n",
    "with open(\"diabetes_model.pkl\", \"wb\") as f:\n",
    "    pickle.dump(model, f)"
   ]
  },
  {
   "cell_type": "code",
   "execution_count": 32,
   "metadata": {},
   "outputs": [
    {
     "name": "stdout",
     "output_type": "stream",
     "text": [
      "Accuracy: 0.90\n",
      "              precision    recall  f1-score   support\n",
      "\n",
      "           0       0.93      0.97      0.95     18292\n",
      "           1       0.31      0.17      0.22      1708\n",
      "\n",
      "    accuracy                           0.90     20000\n",
      "   macro avg       0.62      0.57      0.58     20000\n",
      "weighted avg       0.87      0.90      0.88     20000\n",
      "\n",
      "[[17674   618]\n",
      " [ 1425   283]]\n"
     ]
    }
   ],
   "source": [
    "# Make predictions\n",
    "y_pred = model.predict(X_test_scaled)\n",
    "# Evaluate the model\n",
    "accuracy = accuracy_score(y_test, y_pred)\n",
    "print(f\"Accuracy: {accuracy:.2f}\")\n",
    "print(classification_report(y_test, y_pred))\n",
    "print(confusion_matrix(y_test, y_pred))"
   ]
  },
  {
   "cell_type": "code",
   "execution_count": 45,
   "metadata": {},
   "outputs": [
    {
     "name": "stdout",
     "output_type": "stream",
     "text": [
      "Prediction: Diabetes\n"
     ]
    }
   ],
   "source": [
    "import pandas as pd\n",
    "\n",
    "age = 35\n",
    "gender = \"Male\"\n",
    "bmi = 23.0\n",
    "smoking_history = \"never\"\n",
    "hypertension = 0\n",
    "heart_disease = 0\n",
    "\n",
    "gender = 'Female'\n",
    "smoking_history = 'former'\n",
    "age = 80\n",
    "hypertension = 0\n",
    "heart_disease = 0\n",
    "bmi = 27.5\n",
    "# gender   age  hypertension  heart_disease smoking_history   bmi\n",
    "data = {\"gender\": gender, \"age\": age, \"hypertension\": hypertension, \"heart_disease\": heart_disease, \"smoking_history\": smoking_history, \"bmi\": bmi}\n",
    "df = pd.DataFrame(data, index=[0])\n",
    "with open(\"encoder.pkl\", \"rb\") as f:\n",
    "    ct = pickle.load(f)\n",
    "df = ct.transform(df)\n",
    "df = pd.DataFrame(df, columns=ct.get_feature_names_out())\n",
    "with open(\"scaler.pkl\", \"rb\") as f:\n",
    "    scaler = pickle.load(f)\n",
    "df = scaler.transform(df)\n",
    "with open(\"diabetes_model.pkl\", \"rb\") as f:\n",
    "    model = pickle.load(f)\n",
    "prediction = model.predict(df)\n",
    "if prediction[0] == 0:\n",
    "    print(\"Prediction: No diabetes\")\n",
    "else:   \n",
    "    print(\"Prediction: Diabetes\")"
   ]
  },
  {
   "cell_type": "code",
   "execution_count": null,
   "metadata": {},
   "outputs": [],
   "source": []
  }
 ],
 "metadata": {
  "kernelspec": {
   "display_name": "ai",
   "language": "python",
   "name": "python3"
  },
  "language_info": {
   "codemirror_mode": {
    "name": "ipython",
    "version": 3
   },
   "file_extension": ".py",
   "mimetype": "text/x-python",
   "name": "python",
   "nbconvert_exporter": "python",
   "pygments_lexer": "ipython3",
   "version": "3.12.1"
  }
 },
 "nbformat": 4,
 "nbformat_minor": 2
}
